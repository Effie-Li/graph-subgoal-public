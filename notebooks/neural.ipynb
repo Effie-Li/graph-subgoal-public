{
 "cells": [
  {
   "cell_type": "markdown",
   "metadata": {},
   "source": [
    "### Imports"
   ]
  },
  {
   "cell_type": "code",
   "execution_count": 1,
   "metadata": {},
   "outputs": [],
   "source": [
    "import os\n",
    "import sys\n",
    "module_path = os.path.abspath(os.path.join('..'))\n",
    "if module_path not in sys.path:\n",
    "    sys.path.append(module_path)\n",
    "import warnings\n",
    "warnings.filterwarnings('ignore')\n",
    "import matplotlib as mpl\n",
    "mpl.rc('image', cmap='RdBu_r')"
   ]
  },
  {
   "cell_type": "code",
   "execution_count": 2,
   "metadata": {},
   "outputs": [],
   "source": [
    "import glob\n",
    "import random\n",
    "import itertools as it\n",
    "from collections import defaultdict\n",
    "import yaml\n",
    "import dill as pkl\n",
    "import numpy as np\n",
    "import scipy as sp\n",
    "import pandas as pd\n",
    "import networkx as nx\n",
    "import seaborn\n",
    "import matplotlib.pyplot as plt\n",
    "\n",
    "from data.dataset import GraphDataset, GraphDataModule\n",
    "from model.layers import Attention, MLP\n",
    "from model.model_module import GraphModelModule\n",
    "import utils.analysis, utils.load, utils.plot\n",
    "\n",
    "import wandb\n",
    "import torch\n",
    "import torch.nn.functional as F\n",
    "from einops import rearrange, repeat"
   ]
  },
  {
   "cell_type": "code",
   "execution_count": 3,
   "metadata": {},
   "outputs": [],
   "source": [
    "api = wandb.Api(timeout=19)\n",
    "PROJECT = 'effie-li/graph-subgoal-v4'\n",
    "runs, config_list, id_list = utils.load.fetch_runs(api, PROJECT)\n",
    "\n",
    "def get_config(runid):\n",
    "    return config_list[id_list.index(runid)]"
   ]
  },
  {
   "cell_type": "markdown",
   "metadata": {},
   "source": [
    "### load model and val batch"
   ]
  },
  {
   "cell_type": "code",
   "execution_count": 4,
   "metadata": {},
   "outputs": [],
   "source": [
    "runid = '2w5wl65b'\n",
    "config = get_config(runid)\n",
    "root = config['wandb']['save_dir'] + config['wandb']['project']\n",
    "ckpt = 'last'\n",
    "val_batch = 'len4+' # 'len4+' or 'all'\n",
    "\n",
    "model, datamodule, batch = utils.load.load_model_and_val_batch(config=config, ckpt_dir=f'{root}/{runid}/checkpoints', ckpt=ckpt, val_batch=val_batch)\n",
    "batch_metadata = utils.analysis.generate_batch_metadata(dm=datamodule, batch=batch)\n",
    "x = utils.analysis.run_model_over_batch(batch, model, config['model']['type'], datamodule.dataset.raw_data['shortest_path'])\n",
    "correct, pred_paths, closest_target, attn_weights, token_reps = x\n",
    "batch['shortest_path'] = closest_target"
   ]
  },
  {
   "cell_type": "code",
   "execution_count": 5,
   "metadata": {},
   "outputs": [
    {
     "data": {
      "text/plain": [
       "dict_keys(['index', 'graph_num', 'isomorph_num', 'graph_context', 'edges', 'start_goal_probe', 'path_len', 'shortest_path'])"
      ]
     },
     "execution_count": 5,
     "metadata": {},
     "output_type": "execute_result"
    }
   ],
   "source": [
    "batch.keys()"
   ]
  },
  {
   "cell_type": "markdown",
   "metadata": {},
   "source": [
    "### token representations"
   ]
  },
  {
   "cell_type": "markdown",
   "metadata": {},
   "source": [
    "#### \\< graph\\> \\< node\\> two-token sequences"
   ]
  },
  {
   "cell_type": "code",
   "execution_count": 4,
   "metadata": {},
   "outputs": [],
   "source": [
    "# try creating mini_seq batches of [graph token][node token] into the model forward flow\n",
    "# can we find connectivity information in the contextualized token representation?\n",
    "\n",
    "def custom_forward(graph_embed, node_embed, model, model_type):\n",
    "    mini_seq = torch.stack([graph_embed, node_embed], dim=1) # (n, 2, embed_dim)\n",
    "    with torch.no_grad():\n",
    "        mask = repeat(torch.tril(torch.ones((2,2))).bool(), 'i j -> b i j', b=len(graph_embed)) if model_type == 'autoreg' else None\n",
    "        x, attn_weights, token_reps = model.transformer._encoder_forward(mini_seq, attn_mask=mask, return_attn=True, return_reps=True)\n",
    "        x = model.transformer.out(x)\n",
    "        if model_type == 'autoreg': x = x[..., 2:] # skip eos units\n",
    "    return x[:, -1], attn_weights, torch.cat([mini_seq.unsqueeze(1), token_reps], dim=1) # take logits from the node probe token\n",
    "\n",
    "def construct_graph_connectivity_probe_data(graph_ids, n_isomorph, node_tokens, raw_data):\n",
    "    # constructs and returns a batch where each node in each graph is paired with all other nodes and \n",
    "    # the connectivity information is stored in the target labels\n",
    "\n",
    "    batch = {'graph_context_id':[], 'node':[], 'pair_node':[], 'is_neighbor':[]}\n",
    "    for g in graph_ids:\n",
    "        for iso in range(n_isomorph):\n",
    "            graph_context_id = graph_ids.index(g) * n_isomorph + iso\n",
    "            i = np.where((np.array(raw_data['graph_num']) == g) & (np.array(raw_data['isomorph_num']) == iso))[0][0]\n",
    "            edges = raw_data['edge_list'][i]\n",
    "            batch['graph_context_id'].extend([graph_context_id] * len(node_tokens))\n",
    "\n",
    "            for node in node_tokens:\n",
    "                batch['node'].append(node)\n",
    "                batch['pair_node'].append(node_tokens.tolist())\n",
    "                is_neighbor = [((node, neighbor) in edges or (neighbor, node) in edges) for neighbor in node_tokens.tolist()]\n",
    "                batch['is_neighbor'].append(is_neighbor)\n",
    "    \n",
    "    return batch\n",
    "\n",
    "def graph_connectivity_probe_test(runid):\n",
    "\n",
    "    config = get_config(runid)\n",
    "    root = config['wandb']['save_dir'] + config['wandb']['project']\n",
    "    model, datamodule, batch = utils.load.load_model_and_val_batch(config=config, ckpt_dir=f'{root}/{runid}/checkpoints', ckpt='last', val_batch='len4+')\n",
    "    node_tokens = torch.tensor(list(range(config['dataset']['n_node'])))\n",
    "    raw_data = datamodule.dataset.raw_data\n",
    "\n",
    "    probe_batch = construct_graph_connectivity_probe_data(datamodule.dataset.include_graphs, datamodule.dataset.n_isomorph, node_tokens, raw_data)\n",
    "    result = {'graph_context_id': np.repeat(probe_batch['graph_context_id'], len(node_tokens)),\n",
    "              'node': np.repeat(probe_batch['node'], len(node_tokens)),\n",
    "              'pair_node': np.array(probe_batch['pair_node']).flatten(),\n",
    "              'is_neighbor': np.array(probe_batch['is_neighbor']).flatten()\n",
    "             }\n",
    "    with torch.no_grad():\n",
    "        graph_embed = model.transformer.graph_context_token(torch.tensor(probe_batch['graph_context_id']))\n",
    "        zero_embed = torch.zeros(len(probe_batch['graph_context_id']), config['model']['embed_dim'])\n",
    "        random_embed = model.transformer.graph_context_token(torch.randint(0, model.transformer.graph_context_token.num_embeddings, \n",
    "                                                                        size=(len(probe_batch['graph_context_id']),)))\n",
    "        node_embed = model.transformer.node_embeddings(torch.tensor(probe_batch['node']))\n",
    "    actual_token_reps = None\n",
    "    for key, embed in zip(['graph_embed', 'zero_embed', 'random_embed'], [graph_embed, zero_embed, random_embed]):\n",
    "        logits, attn_weights, token_reps = custom_forward(embed, node_embed, model, config['model']['type'])\n",
    "        if key == 'graph_embed': actual_token_reps = token_reps\n",
    "        result[f'{key}_logits'] = logits.flatten().tolist()\n",
    "        logits_sorted = np.sort(logits.numpy(), axis=1) # sorted from small to large, shape (n_graph_context x n_node, n_node)\n",
    "        result[f'{key}_logit_is_topn'] = [\n",
    "            x >= logits_sorted[i, -sum(probe_batch['is_neighbor'][i])] \n",
    "            for i, seq_logits in enumerate(logits)\n",
    "            for x in seq_logits.numpy()\n",
    "        ]\n",
    "\n",
    "    result = pd.DataFrame(result)\n",
    "    return config, model, probe_batch, result, actual_token_reps"
   ]
  },
  {
   "cell_type": "code",
   "execution_count": 5,
   "metadata": {},
   "outputs": [],
   "source": [
    "config, model, probe_batch, df, actual_token_reps = graph_connectivity_probe_test('2w5wl65b')"
   ]
  },
  {
   "cell_type": "markdown",
   "metadata": {},
   "source": [
    "#### does the graph embedding encode graph connectivity?"
   ]
  },
  {
   "cell_type": "code",
   "execution_count": 50,
   "metadata": {},
   "outputs": [
    {
     "name": "stdout",
     "output_type": "stream",
     "text": [
      "0.8487728755851894 0.24466792984501773 0.24343100189035916\n",
      "graph_embed_logits: t=279.46, p=0.0000\n",
      "zero_embed_logits: t=1.98, p=0.0472\n",
      "random_embed_logits: t=0.26, p=0.7918\n"
     ]
    },
    {
     "data": {
      "text/plain": [
       "Text(0, 0.5, 'logits for non-edges and edges')"
      ]
     },
     "execution_count": 50,
     "metadata": {},
     "output_type": "execute_result"
    },
    {
     "data": {
      "image/png": "[encoded data removed]",
      "text/plain": [
       "<Figure size 360x216 with 1 Axes>"
      ]
     },
     "metadata": {
      "needs_background": "light"
     },
     "output_type": "display_data"
    }
   ],
   "source": [
    "import seaborn as sns\n",
    "\n",
    "fig, ax = plt.subplots(1, figsize=[5, 3])\n",
    "\n",
    "df = df[df['node'] != df['pair_node']] # remove self-to-self node pairs\n",
    "print(\n",
    "    df[df['graph_embed_logit_is_topn']==True]['is_neighbor'].mean(),\n",
    "    df[df['zero_embed_logit_is_topn']==True]['is_neighbor'].mean(),\n",
    "    df[df['random_embed_logit_is_topn']==True]['is_neighbor'].mean()\n",
    ")\n",
    "\n",
    "# some individual samples\n",
    "subsampled_df = df.sample(1000).melt(id_vars='is_neighbor', value_vars=['graph_embed_logits', 'zero_embed_logits', 'random_embed_logits'], var_name='embed_type', value_name='logits')\n",
    "sns.stripplot(data=subsampled_df, x='embed_type', y='logits', hue='is_neighbor', ax=ax, dodge=True, alpha=0.1, jitter=0.2, zorder=0, palette={True: 'C0', False: 'gray'})\n",
    "\n",
    "# mean and std\n",
    "for i, embed_type in enumerate(['graph_embed_logits', 'zero_embed_logits', 'random_embed_logits']):\n",
    "    edge_logits = df[(df['is_neighbor']==1)][embed_type]\n",
    "    nonedge_logits = df[(df['is_neighbor']==0)][embed_type]\n",
    "    ax.errorbar(x=i-0.2, y=nonedge_logits.mean(), yerr=nonedge_logits.std(), fmt='o', color='black')\n",
    "    ax.errorbar(x=i+0.2, y=edge_logits.mean(), yerr=edge_logits.std(), fmt='o', color='black')\n",
    "    tstat, pvalue = sp.stats.ttest_ind(edge_logits, nonedge_logits)\n",
    "    print(f'{embed_type}: t={tstat:.2f}, p={pvalue:.4f}')\n",
    "\n",
    "ax.legend(ncol=2, title='is_neighbor', loc='upper center')\n",
    "ax.set_xticks(range(3))\n",
    "ax.set_xticklabels(['graph_embed', 'zero_embed', 'random_graph_embed'])\n",
    "ax.set_ylabel('logits for non-edges and edges')"
   ]
  },
  {
   "cell_type": "markdown",
   "metadata": {},
   "source": [
    "graph embeddings"
   ]
  },
  {
   "cell_type": "code",
   "execution_count": 51,
   "metadata": {},
   "outputs": [
    {
     "data": {
      "text/plain": [
       "(500, 256)"
      ]
     },
     "execution_count": 51,
     "metadata": {},
     "output_type": "execute_result"
    }
   ],
   "source": [
    "import sklearn.linear_model\n",
    "\n",
    "graph_embeddings = model.transformer.graph_context_token.weight.detach().numpy()\n",
    "graph_nums = np.repeat(config['dataset']['include_graphs'], repeats=10)\n",
    "isomorphs = np.tile(range(config['dataset']['n_isomorph']), reps=config['dataset']['n_graph'])\n",
    "graph_embeddings.shape"
   ]
  },
  {
   "cell_type": "code",
   "execution_count": 59,
   "metadata": {},
   "outputs": [
    {
     "name": "stdout",
     "output_type": "stream",
     "text": [
      "chance=0.02, train_acc=1.0, test_acc=0.03\n"
     ]
    }
   ],
   "source": [
    "# can you tell graph connectivity shared across isomorphs?\n",
    "X = graph_embeddings\n",
    "y = graph_nums\n",
    "held_out_isomorphs = np.random.choice(np.unique(isomorphs), size=2, replace=False)\n",
    "X_test = np.in1d(isomorphs, held_out_isomorphs)\n",
    "X_train = ~X_test\n",
    "lr = sklearn.linear_model.LogisticRegression(multi_class='multinomial')\n",
    "lr.fit(X[X_train], y[X_train])\n",
    "print(f'chance={1/50}, train_acc={lr.score(X[X_train], y[X_train])}, test_acc={lr.score(X[X_test], y[X_test])}')"
   ]
  },
  {
   "cell_type": "code",
   "execution_count": 55,
   "metadata": {},
   "outputs": [
    {
     "data": {
      "image/png": "[encoded data removed]",
      "text/plain": [
       "<Figure size 432x288 with 1 Axes>"
      ]
     },
     "metadata": {
      "needs_background": "light"
     },
     "output_type": "display_data"
    }
   ],
   "source": [
    "# do graph embeddings cluster by graph num?\n",
    "\n",
    "import sklearn.decomposition\n",
    "pca = sklearn.decomposition.PCA(n_components=2)\n",
    "low_dim = pca.fit_transform(graph_embeddings)\n",
    "\n",
    "figure, ax = plt.subplots(1)\n",
    "graph_num = np.repeat(config['dataset']['include_graphs'], repeats=config['dataset']['n_isomorph'])\n",
    "colors = ['#9e0142', '#d53e4f', '#f46d43', '#fdae61', '#fee08b', '#e6f598', '#abdda4', '#66c2a5', '#3288bd', '#5e4fa2']\n",
    "for i in range(low_dim.shape[0]):\n",
    "    ax.scatter(low_dim[i,0], low_dim[i,1], color=colors[graph_num[i]%10], s=10)"
   ]
  },
  {
   "cell_type": "markdown",
   "metadata": {},
   "source": [
    "#### autoreg: start/goal awareness"
   ]
  },
  {
   "cell_type": "code",
   "execution_count": 16,
   "metadata": {},
   "outputs": [],
   "source": [
    "import sklearn\n",
    "import sklearn.linear_model\n",
    "from sklearn.model_selection import KFold\n",
    "\n",
    "def decode_cv(token_reps, X_mask, target, y_mask, layers, target_label,\n",
    "              n_fold=4, downsample_to_balance_base_rate=True):\n",
    "\n",
    "    # we have X_mask and y_mask here to allow 2d masks that selects different tokens in different seqs\n",
    "    # then after taking X[X_mask] the samples are flattened out across sequences\n",
    "    # the downsample_to_balance_base_rate is used to balance output classes for the decoder\n",
    "\n",
    "    y = target[y_mask]\n",
    "    selected_samples = list(range(len(y)))\n",
    "    if downsample_to_balance_base_rate:\n",
    "        node_class, node_count = np.unique(y, return_counts=True) # torch.unique throws weird error sometimes\n",
    "        min_count = node_count.min()\n",
    "        selected_samples = []\n",
    "        for nc in node_class:\n",
    "            select = random.sample(torch.where(y==nc)[0].tolist(), min_count)\n",
    "            selected_samples.extend(select)\n",
    "        selected_samples.sort()\n",
    "    y = y[selected_samples].numpy()\n",
    "    n = len(y)\n",
    "    \n",
    "    table = {'graph_context':[], 'probe_index':[], target_label:[], 'decoder_trained_on_layer':[], 'train_acc': [], 'test_acc': []}\n",
    "    probe_idx = repeat(batch['index'][correct].numpy(), 'n -> n m', m=target.shape[1])\n",
    "    graph_context_id = repeat(batch['graph_context'][correct].numpy(), 'n -> n m', m=target.shape[1])\n",
    "\n",
    "    for layer in layers:\n",
    "        layer_i = layers.index(layer)\n",
    "        X = token_reps[:,layer_i][X_mask][selected_samples] # extracts and flattens states at the layer\n",
    "\n",
    "        train_acc, test_acc = np.zeros(n), np.zeros(n)\n",
    "        kf = KFold(n_splits=n_fold)\n",
    "        for i, (train_idx, test_idx) in enumerate(kf.split(X)):\n",
    "\n",
    "            X_train, y_train, X_test, y_test = X[train_idx], y[train_idx], X[test_idx], y[test_idx]\n",
    "            lr = sklearn.linear_model.LogisticRegression(C=1)\n",
    "            lr.fit(X_train, y_train)\n",
    "\n",
    "            train_acc[train_idx] = lr.predict_proba(X_train).argmax(1) == y_train\n",
    "            test_acc[test_idx] = lr.predict_proba(X_test).argmax(1) == y_test\n",
    "    \n",
    "        table['graph_context'].extend(graph_context_id[y_mask][selected_samples])\n",
    "        table['probe_index'].extend(probe_idx[y_mask][selected_samples])\n",
    "        table[target_label].extend(y)\n",
    "        table['decoder_trained_on_layer'].extend([layer]*n)\n",
    "        table['train_acc'].extend(train_acc)\n",
    "        table['test_acc'].extend(test_acc)\n",
    "    \n",
    "    result = pd.DataFrame.from_dict(table)\n",
    "    result['decoder_trained_on_layer'] = pd.Categorical(result['decoder_trained_on_layer'], categories=layers)\n",
    "    return result, selected_samples"
   ]
  },
  {
   "cell_type": "code",
   "execution_count": 160,
   "metadata": {},
   "outputs": [
    {
     "name": "stdout",
     "output_type": "stream",
     "text": [
      "total val batch:  torch.Size([12064, 5, 12, 256])\n",
      "probs w correct pred:  torch.Size([9955, 5, 8, 256]) torch.Size([9955, 8])\n",
      "['input', 'a0', 'f0', 'a1', 'f1']\n"
     ]
    }
   ],
   "source": [
    "# get token reps and target for correct problems\n",
    "if config['model']['type'] == 'autoreg':\n",
    "    outpath_token_reps = token_reps[correct, :, model.transformer.sos_index:-1, :]\n",
    "elif config['model']['type'] == 'masked':\n",
    "    outpath_token_reps = token_reps[correct, :, -model.transformer.max_path_len:, :]\n",
    "\n",
    "target = batch['shortest_path'][correct].detach().clone()\n",
    "arch_layers = ['input'] + [f'{layertype}{l//2}' for l, layertype in enumerate(model.transformer.architecture.split('.'))]\n",
    "print('total val batch: ', token_reps.shape) # (bsz, 1+n_layer, n_token, embed_dim)\n",
    "print('probs w correct pred: ', outpath_token_reps.shape, target.shape)\n",
    "print(arch_layers)\n",
    "\n",
    "# some useful masks\n",
    "max_pathlen = target.shape[1]\n",
    "path_len = batch['path_len'][correct]\n",
    "pad_mask = target == model.transformer.node_embeddings.padding_idx\n",
    "start_mask = F.one_hot(torch.zeros(target.shape[0]).long(), num_classes=max_pathlen).bool()\n",
    "goal_mask = F.one_hot(path_len.long() - 1, num_classes=max_pathlen).bool()"
   ]
  },
  {
   "cell_type": "code",
   "execution_count": 161,
   "metadata": {},
   "outputs": [],
   "source": [
    "# decode start\n",
    "seq_start = repeat(target[start_mask], 'b -> b n', n=max_pathlen)\n",
    "\n",
    "pooled_result = []\n",
    "for pos in range(max_pathlen):\n",
    "    pos_mask = F.one_hot(pos + torch.zeros(target.shape[0]).long(), num_classes=max_pathlen).bool()\n",
    "    X_mask = pos_mask & ~pad_mask\n",
    "    result, x = decode_cv(token_reps=outpath_token_reps, X_mask=X_mask, target=seq_start, y_mask=X_mask, \n",
    "                          layers=arch_layers, target_label='start', n_fold=4, downsample_to_balance_base_rate=False)\n",
    "    result['node_pos'] = pos\n",
    "    pooled_result.append(result)\n",
    "pooled_result = pd.concat(pooled_result)\n",
    "pooled_result.to_csv(f'v4_decode_start_goal/{runid}_start_decoder.csv', index=False)"
   ]
  },
  {
   "cell_type": "code",
   "execution_count": 162,
   "metadata": {},
   "outputs": [],
   "source": [
    "# decode goal from start to node-before-goal\n",
    "seq_goal = repeat(target[goal_mask], 'b -> b n', n=max_pathlen)\n",
    "\n",
    "pooled_result = []\n",
    "for pos in range(max_pathlen-1): # the last position has to be goal or pad, excluded\n",
    "    pos_mask = F.one_hot(pos + torch.zeros(target.shape[0]).long(), num_classes=max_pathlen).bool()\n",
    "    X_mask = pos_mask & ~goal_mask & ~pad_mask\n",
    "    result, x = decode_cv(token_reps=outpath_token_reps, X_mask=X_mask, target=seq_goal, y_mask=X_mask, \n",
    "                          layers=arch_layers, target_label='goal', n_fold=4, downsample_to_balance_base_rate=False)\n",
    "    result['node_pos'] = pos\n",
    "    pooled_result.append(result)\n",
    "pooled_result = pd.concat(pooled_result)\n",
    "pooled_result.to_csv(f'v4_decode_start_goal/{runid}_goal_decoder.csv', index=False)"
   ]
  },
  {
   "cell_type": "code",
   "execution_count": 163,
   "metadata": {},
   "outputs": [],
   "source": [
    "# autoreg future decoding masks\n",
    "first_intermediate = F.one_hot(torch.ones(target.shape[0]).long(), num_classes=max_pathlen).bool()\n",
    "second_to_last_intermediate = F.one_hot(path_len.long() - 3, num_classes=max_pathlen).bool()\n",
    "last_intermediate = F.one_hot(path_len.long() - 2, num_classes=max_pathlen).bool() # excluded so that goal awareness is not counted\n",
    "\n",
    "# decode node after target node (excl. node-before-goal to disentalngle goal awareness)\n",
    "X_mask = ~goal_mask & ~last_intermediate & ~pad_mask\n",
    "y_mask = ~start_mask & ~goal_mask & ~pad_mask\n",
    "result, x = decode_cv(token_reps=outpath_token_reps, X_mask=X_mask, target=target, y_mask=y_mask,\n",
    "                      layers=arch_layers, target_label='next1', n_fold=4, downsample_to_balance_base_rate=False)\n",
    "result.to_csv(f'v4_decode_start_goal/{runid}_next1_decoder.csv', index=False)\n",
    "\n",
    "# two nodes after?\n",
    "X_mask = ~goal_mask & ~last_intermediate & ~second_to_last_intermediate & ~pad_mask\n",
    "y_mask = ~start_mask & ~first_intermediate & ~goal_mask & ~pad_mask\n",
    "result, x = decode_cv(token_reps=outpath_token_reps, X_mask=X_mask, target=target, y_mask=y_mask,\n",
    "                      layers=arch_layers, target_label='next2', n_fold=4, downsample_to_balance_base_rate=False)\n",
    "result.to_csv(f'v4_decode_start_goal/{runid}_next2_decoder.csv', index=False)"
   ]
  },
  {
   "cell_type": "markdown",
   "metadata": {},
   "source": [
    "### across multiple runs"
   ]
  },
  {
   "cell_type": "code",
   "execution_count": 4,
   "metadata": {},
   "outputs": [],
   "source": [
    "sheet_id = '1nFaMtdoecqKbtQyNvZ-xFQGpV6j0nfqhxCZJMEnRs_I'\n",
    "gid = '299429988'\n",
    "experiment_log = pd.read_csv(f'https://docs.google.com/spreadsheets/d/{sheet_id}/export?gid={gid}&format=csv')\n",
    "experiment_log['project phase'] = pd.Series(experiment_log['project phase']).fillna(method='ffill')\n",
    "\n",
    "runs = experiment_log[experiment_log['project phase'].str.contains('graph context')]\n",
    "runs = runs[['project phase', 'runid', 'model type', 'architecture', 'dataset']]"
   ]
  },
  {
   "cell_type": "code",
   "execution_count": 14,
   "metadata": {},
   "outputs": [
    {
     "data": {
      "text/html": [
       "<div>\n",
       "<style scoped>\n",
       "    .dataframe tbody tr th:only-of-type {\n",
       "        vertical-align: middle;\n",
       "    }\n",
       "\n",
       "    .dataframe tbody tr th {\n",
       "        vertical-align: top;\n",
       "    }\n",
       "\n",
       "    .dataframe thead th {\n",
       "        text-align: right;\n",
       "    }\n",
       "</style>\n",
       "<table border=\"1\" class=\"dataframe\">\n",
       "  <thead>\n",
       "    <tr style=\"text-align: right;\">\n",
       "      <th></th>\n",
       "      <th>project phase</th>\n",
       "      <th>runid</th>\n",
       "      <th>model type</th>\n",
       "      <th>architecture</th>\n",
       "      <th>dataset</th>\n",
       "    </tr>\n",
       "  </thead>\n",
       "  <tbody>\n",
       "    <tr>\n",
       "      <th>16</th>\n",
       "      <td>graph context models</td>\n",
       "      <td>hfuz3w12</td>\n",
       "      <td>random-masked</td>\n",
       "      <td>L1H1</td>\n",
       "      <td>human30</td>\n",
       "    </tr>\n",
       "    <tr>\n",
       "      <th>17</th>\n",
       "      <td>graph context models</td>\n",
       "      <td>2eogdrwq</td>\n",
       "      <td>random-masked</td>\n",
       "      <td>L1H1</td>\n",
       "      <td>human30</td>\n",
       "    </tr>\n",
       "    <tr>\n",
       "      <th>18</th>\n",
       "      <td>graph context models</td>\n",
       "      <td>258zf14v</td>\n",
       "      <td>random-masked</td>\n",
       "      <td>L1H1</td>\n",
       "      <td>human30</td>\n",
       "    </tr>\n",
       "    <tr>\n",
       "      <th>19</th>\n",
       "      <td>graph context models</td>\n",
       "      <td>13e7b8ig</td>\n",
       "      <td>random-masked</td>\n",
       "      <td>L1H1</td>\n",
       "      <td>human30</td>\n",
       "    </tr>\n",
       "    <tr>\n",
       "      <th>20</th>\n",
       "      <td>graph context models</td>\n",
       "      <td>1sbzhmry</td>\n",
       "      <td>random-masked</td>\n",
       "      <td>L1H1</td>\n",
       "      <td>random50</td>\n",
       "    </tr>\n",
       "    <tr>\n",
       "      <th>21</th>\n",
       "      <td>graph context models</td>\n",
       "      <td>17lwle4y</td>\n",
       "      <td>random-masked</td>\n",
       "      <td>L1H1</td>\n",
       "      <td>random50</td>\n",
       "    </tr>\n",
       "    <tr>\n",
       "      <th>22</th>\n",
       "      <td>graph context models</td>\n",
       "      <td>3hblx7rk</td>\n",
       "      <td>random-masked</td>\n",
       "      <td>L1H1</td>\n",
       "      <td>random50</td>\n",
       "    </tr>\n",
       "    <tr>\n",
       "      <th>23</th>\n",
       "      <td>graph context models</td>\n",
       "      <td>k5t3el7a</td>\n",
       "      <td>random-masked</td>\n",
       "      <td>L1H1</td>\n",
       "      <td>random50</td>\n",
       "    </tr>\n",
       "    <tr>\n",
       "      <th>24</th>\n",
       "      <td>graph context models</td>\n",
       "      <td>k2x2f9gm</td>\n",
       "      <td>autoreg</td>\n",
       "      <td>L2H1</td>\n",
       "      <td>human30</td>\n",
       "    </tr>\n",
       "    <tr>\n",
       "      <th>25</th>\n",
       "      <td>graph context models</td>\n",
       "      <td>1wczubuv</td>\n",
       "      <td>autoreg</td>\n",
       "      <td>L2H1</td>\n",
       "      <td>human30</td>\n",
       "    </tr>\n",
       "    <tr>\n",
       "      <th>26</th>\n",
       "      <td>graph context models</td>\n",
       "      <td>2u8z8nk4</td>\n",
       "      <td>autoreg</td>\n",
       "      <td>L2H1</td>\n",
       "      <td>human30</td>\n",
       "    </tr>\n",
       "    <tr>\n",
       "      <th>27</th>\n",
       "      <td>graph context models</td>\n",
       "      <td>2w5wl65b</td>\n",
       "      <td>autoreg</td>\n",
       "      <td>L2H1</td>\n",
       "      <td>human30</td>\n",
       "    </tr>\n",
       "    <tr>\n",
       "      <th>28</th>\n",
       "      <td>graph context models</td>\n",
       "      <td>2re0wt2b</td>\n",
       "      <td>autoreg</td>\n",
       "      <td>L2H1</td>\n",
       "      <td>random50</td>\n",
       "    </tr>\n",
       "    <tr>\n",
       "      <th>29</th>\n",
       "      <td>graph context models</td>\n",
       "      <td>1chrs9j0</td>\n",
       "      <td>autoreg</td>\n",
       "      <td>L2H1</td>\n",
       "      <td>random50</td>\n",
       "    </tr>\n",
       "    <tr>\n",
       "      <th>30</th>\n",
       "      <td>graph context models</td>\n",
       "      <td>158q4p5u</td>\n",
       "      <td>autoreg</td>\n",
       "      <td>L2H1</td>\n",
       "      <td>random50</td>\n",
       "    </tr>\n",
       "    <tr>\n",
       "      <th>31</th>\n",
       "      <td>graph context models</td>\n",
       "      <td>63zgwwtq</td>\n",
       "      <td>autoreg</td>\n",
       "      <td>L2H1</td>\n",
       "      <td>random50</td>\n",
       "    </tr>\n",
       "  </tbody>\n",
       "</table>\n",
       "</div>"
      ],
      "text/plain": [
       "           project phase     runid     model type architecture   dataset\n",
       "16  graph context models  hfuz3w12  random-masked         L1H1   human30\n",
       "17  graph context models  2eogdrwq  random-masked         L1H1   human30\n",
       "18  graph context models  258zf14v  random-masked         L1H1   human30\n",
       "19  graph context models  13e7b8ig  random-masked         L1H1   human30\n",
       "20  graph context models  1sbzhmry  random-masked         L1H1  random50\n",
       "21  graph context models  17lwle4y  random-masked         L1H1  random50\n",
       "22  graph context models  3hblx7rk  random-masked         L1H1  random50\n",
       "23  graph context models  k5t3el7a  random-masked         L1H1  random50\n",
       "24  graph context models  k2x2f9gm        autoreg         L2H1   human30\n",
       "25  graph context models  1wczubuv        autoreg         L2H1   human30\n",
       "26  graph context models  2u8z8nk4        autoreg         L2H1   human30\n",
       "27  graph context models  2w5wl65b        autoreg         L2H1   human30\n",
       "28  graph context models  2re0wt2b        autoreg         L2H1  random50\n",
       "29  graph context models  1chrs9j0        autoreg         L2H1  random50\n",
       "30  graph context models  158q4p5u        autoreg         L2H1  random50\n",
       "31  graph context models  63zgwwtq        autoreg         L2H1  random50"
      ]
     },
     "execution_count": 14,
     "metadata": {},
     "output_type": "execute_result"
    }
   ],
   "source": [
    "runs"
   ]
  },
  {
   "cell_type": "markdown",
   "metadata": {},
   "source": [
    "#### graph connectivity probe test"
   ]
  },
  {
   "cell_type": "code",
   "execution_count": 39,
   "metadata": {},
   "outputs": [
    {
     "name": "stdout",
     "output_type": "stream",
     "text": [
      " ---  ebszm1h8  --- \n",
      "  -- logit t-test --  graph_embed_logits : t=38.42,p=0.0000 | zero_embed_logits : t=1.13,p=0.2575 | random_embed_logits : t=0.79,p=0.4270 | \n",
      "  -- topn logit match --  graph_embed_logit_is_topn : match_acc=0.62 | zero_embed_logit_is_topn : match_acc=0.46 | random_embed_logit_is_topn : match_acc=0.46 | \n",
      " ---  2z0m2coa  --- \n",
      "  -- logit t-test --  graph_embed_logits : t=38.03,p=0.0000 | zero_embed_logits : t=2.59,p=0.0095 | random_embed_logits : t=2.50,p=0.0123 | \n",
      "  -- topn logit match --  graph_embed_logit_is_topn : match_acc=0.59 | zero_embed_logit_is_topn : match_acc=0.47 | random_embed_logit_is_topn : match_acc=0.47 | \n",
      " ---  36awn1we  --- \n",
      "  -- logit t-test --  graph_embed_logits : t=37.06,p=0.0000 | zero_embed_logits : t=0.44,p=0.6618 | random_embed_logits : t=-0.15,p=0.8836 | \n",
      "  -- topn logit match --  graph_embed_logit_is_topn : match_acc=0.59 | zero_embed_logit_is_topn : match_acc=0.45 | random_embed_logit_is_topn : match_acc=0.45 | \n",
      " ---  2cn61szb  --- \n",
      "  -- logit t-test --  graph_embed_logits : t=47.31,p=0.0000 | zero_embed_logits : t=0.56,p=0.5763 | random_embed_logits : t=0.83,p=0.4087 | \n",
      "  -- topn logit match --  graph_embed_logit_is_topn : match_acc=0.61 | zero_embed_logit_is_topn : match_acc=0.46 | random_embed_logit_is_topn : match_acc=0.45 | \n"
     ]
    }
   ],
   "source": [
    "runids = ['ebszm1h8', '2z0m2coa', '36awn1we', '2cn61szb'] # human30-L1H1\n",
    "for runid in runids:\n",
    "    print(' --- ', runid, ' --- ')\n",
    "    df = graph_connectivity_probe_test(runid)\n",
    "    df = df[df['node'] != df['pair_node']] # remove self-to-self node pairs\n",
    "    print('  -- logit t-test --  ', end='')\n",
    "    for i, embed_type in enumerate(['graph_embed_logits', 'zero_embed_logits', 'random_embed_logits']):\n",
    "        edge_logits = df[(df['is_neighbor']==1)][embed_type]\n",
    "        nonedge_logits = df[(df['is_neighbor']==0)][embed_type]\n",
    "        tstat, pvalue = sp.stats.ttest_ind(edge_logits, nonedge_logits)\n",
    "        print(embed_type, ':', 't=%.2f'%tstat+','+'p=%.4f'%pvalue, end=' | ')\n",
    "    print('\\n  -- topn logit match --  ', end='')\n",
    "    for i, logit_topn in enumerate(['graph_embed_logit_is_topn', 'zero_embed_logit_is_topn', 'random_embed_logit_is_topn']):\n",
    "        acc = df[df[logit_topn]==True]['is_neighbor'].mean()\n",
    "        print(logit_topn, ':', 'match_acc=%.2f'%acc, end=' | ')\n",
    "    print()"
   ]
  },
  {
   "cell_type": "markdown",
   "metadata": {},
   "source": [
    "#### decode start and goal"
   ]
  },
  {
   "cell_type": "code",
   "execution_count": 5,
   "metadata": {},
   "outputs": [],
   "source": [
    "# piece together multi-seed results\n",
    "dataset = 'random50'\n",
    "model_type = 'autoreg'\n",
    "dfs = []\n",
    "for runid in runs[(runs['dataset']==dataset)&(runs['model type']==model_type)]['runid'].values:\n",
    "    df = pd.read_csv(f'v4_decode_start_goal/{runid}_start_decoder.csv')\n",
    "    df['runid'] = runid\n",
    "    dfs.append(df)\n",
    "result = pd.concat(dfs)\n",
    "result['decoder_trained_on_layer'] = pd.Categorical(result['decoder_trained_on_layer'], categories=['input', 'a0', 'f0', 'a1', 'f1'])"
   ]
  },
  {
   "cell_type": "code",
   "execution_count": null,
   "metadata": {},
   "outputs": [
    {
     "data": {
      "image/png": "[encoded data removed]",
      "text/plain": [
       "<Figure size 252x216 with 1 Axes>"
      ]
     },
     "metadata": {
      "needs_background": "light"
     },
     "output_type": "display_data"
    }
   ],
   "source": [
    "# start/goal decoding\n",
    "\n",
    "plot_data = result.groupby(['runid', 'decoder_trained_on_layer', 'node_pos']).mean()\n",
    "plot_data = plot_data.groupby(['decoder_trained_on_layer', 'node_pos']).agg([np.mean, np.std]).reset_index()\n",
    "\n",
    "fig, ax = plt.subplots(1, figsize=[3.5,3])\n",
    "colors = {'input':'#bce6ff', 'a0':'#88cdf6', 'f0':'#68A4D4', 'a1':'#2d82b5', 'f1':'#015c92'}\n",
    "\n",
    "for i, layer in enumerate(['input', 'a0', 'f0', 'a1', 'f1']):\n",
    "    x = plot_data[plot_data['decoder_trained_on_layer']==layer]\n",
    "    xs = x['node_pos'].values\n",
    "    ys = x['test_acc']['mean'].values\n",
    "    yerrs = x['test_acc']['std'].values\n",
    "    ax.errorbar(xs, ys, yerr=yerrs, label=layer, color=colors[layer])\n",
    "\n",
    "ax.set_xticks(range(8))\n",
    "ax.set_title('Decoding start node')\n",
    "ax.legend(ncol=1)\n",
    "ax.set_xlabel('output position')\n",
    "ax.set_ylabel('decode accuracy')\n",
    "\n",
    "fig.tight_layout()\n",
    "# fig.savefig(f'../figure/plos/startdec_random50_graphcontext_autoreg.png', dpi=300)"
   ]
  },
  {
   "cell_type": "code",
   "execution_count": 74,
   "metadata": {},
   "outputs": [],
   "source": [
    "# piece together multi-seed results\n",
    "dataset = 'random50'\n",
    "model_type = 'autoreg'\n",
    "dfs = []\n",
    "for runid in runs[(runs['dataset']==dataset)&(runs['model type']==model_type)]['runid'].values:\n",
    "    df = pd.read_csv(f'v4_decode_start_goal/{runid}_next2_decoder.csv')\n",
    "    df['runid'] = runid\n",
    "    dfs.append(df)\n",
    "result = pd.concat(dfs)\n",
    "result['decoder_trained_on_layer'] = pd.Categorical(result['decoder_trained_on_layer'], categories=['input', 'a0', 'f0', 'a1', 'f1'])"
   ]
  },
  {
   "cell_type": "code",
   "execution_count": 75,
   "metadata": {},
   "outputs": [],
   "source": [
    "plot_data = result.groupby(['runid', 'decoder_trained_on_layer']).mean()\n",
    "plot_data = plot_data.groupby(['decoder_trained_on_layer']).agg([np.mean, np.std]).reset_index()\n",
    "# next1_ys = plot_data['test_acc']['mean'].values\n",
    "# next1_yerrs = plot_data['test_acc']['std'].values\n",
    "next2_ys = plot_data['test_acc']['mean'].values\n",
    "next2_yerrs = plot_data['test_acc']['std'].values"
   ]
  },
  {
   "cell_type": "code",
   "execution_count": null,
   "metadata": {},
   "outputs": [
    {
     "data": {
      "image/png": "[encoded data removed]",
      "text/plain": [
       "<Figure size 252x216 with 1 Axes>"
      ]
     },
     "metadata": {
      "needs_background": "light"
     },
     "output_type": "display_data"
    }
   ],
   "source": [
    "# autoreg next1/next2 decoding\n",
    "\n",
    "plot_data = result.groupby(['runid', 'decoder_trained_on_layer']).mean()\n",
    "plot_data = plot_data.groupby(['decoder_trained_on_layer']).agg([np.mean, np.std]).reset_index()\n",
    "\n",
    "fig, ax = plt.subplots(1, figsize=[3.5,3])\n",
    "xs = plot_data['decoder_trained_on_layer'].values\n",
    "ax.errorbar(xs, next1_ys, yerr=next1_yerrs, color='C0', label='next node')\n",
    "ax.errorbar(xs, next2_ys, yerr=next2_yerrs, color='C1', label='next next node')\n",
    "\n",
    "ax.legend()\n",
    "ax.set_xlabel('layer')\n",
    "ax.set_ylabel('decode accuracy')\n",
    "ax.set_title('Decoding future node')\n",
    "ax.set_ylim([0,1])\n",
    "\n",
    "fig.tight_layout()\n",
    "# fig.savefig(f'../figure/plos/nextdec_random50_graphcontext_autoreg.png', dpi=300)"
   ]
  },
  {
   "cell_type": "code",
   "execution_count": null,
   "metadata": {},
   "outputs": [],
   "source": []
  }
 ],
 "metadata": {
  "kernelspec": {
   "display_name": "py39",
   "language": "python",
   "name": "python3"
  },
  "language_info": {
   "codemirror_mode": {
    "name": "ipython",
    "version": 3
   },
   "file_extension": ".py",
   "mimetype": "text/x-python",
   "name": "python",
   "nbconvert_exporter": "python",
   "pygments_lexer": "ipython3",
   "version": "3.9.7"
  }
 },
 "nbformat": 4,
 "nbformat_minor": 2
}
